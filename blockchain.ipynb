{
 "cells": [
  {
   "cell_type": "code",
   "execution_count": 1,
   "metadata": {},
   "outputs": [],
   "source": [
    "import hashlib\n",
    "import time\n",
    "\n",
    "class Block:\n",
    "    def __init__(self, index, data, previous_hash):\n",
    "        self.index = index\n",
    "        self.timestamp = time.time()\n",
    "        self.data = data\n",
    "        self.previous_hash = previous_hash\n",
    "        self.hash = self.calculate_hash()\n",
    "\n",
    "    def calculate_hash(self):\n",
    "        block_string = \"{}{}{}{}\".format(self.index, self.timestamp, self.data, self.previous_hash)\n",
    "        return hashlib.sha256(block_string.encode()).hexdigest()\n"
   ]
  },
  {
   "cell_type": "code",
   "execution_count": 2,
   "metadata": {},
   "outputs": [],
   "source": [
    "class Blockchain:\n",
    "    def __init__(self):\n",
    "        self.chain = [self.create_genesis_block()]\n",
    "\n",
    "    def create_genesis_block(self):\n",
    "        return Block(0, \"Genesis Block\", \"0\")\n",
    "\n",
    "    def add_block(self, data):\n",
    "        last_block = self.chain[-1]\n",
    "        new_block = Block(len(self.chain), data, last_block.hash)\n",
    "        self.chain.append(new_block)\n",
    "\n",
    "    def is_valid(self):\n",
    "        for i in range(1, len(self.chain)):\n",
    "            current_block = self.chain[i]\n",
    "            previous_block = self.chain[i-1]\n",
    "\n",
    "            if current_block.hash != current_block.calculate_hash():\n",
    "                print(\"Current block's hash is incorrect\")\n",
    "                return False\n",
    "\n",
    "            if current_block.previous_hash != previous_block.hash:\n",
    "                print(\"Previous block's hash doesn't match current block's previous hash\")\n",
    "                return False\n",
    "\n",
    "        return True\n"
   ]
  },
  {
   "cell_type": "code",
   "execution_count": 3,
   "metadata": {},
   "outputs": [
    {
     "name": "stdout",
     "output_type": "stream",
     "text": [
      "Block 0: Genesis Block\n",
      "Hash: 3a54869ae6c85e9a407355a1d132104b922f7855b7d756d862a7243bd6166d9e\n",
      "\n",
      "Block 1: First block after Genesis\n",
      "Hash: 6a393694830b4ae6a192483182e3b9d841c713dad44ac7a60d95dc74578cfeca\n",
      "\n",
      "Block 2: Second block after Genesis\n",
      "Hash: ab78b5ade74d2a6121a76e35f1d365df9eacd65d057e65e1f3d1572c7425d320\n",
      "\n",
      "Block 3: Third block after Genesis\n",
      "Hash: d61172c8b1797eb0bd1f139108f01dc25a21cd478f80998a0d5c8f1cae40b1bd\n",
      "\n",
      "Blockchain valid? True\n"
     ]
    }
   ],
   "source": [
    "my_blockchain = Blockchain()\n",
    "my_blockchain.add_block(\"First block after Genesis\")\n",
    "my_blockchain.add_block(\"Second block after Genesis\")\n",
    "my_blockchain.add_block(\"Third block after Genesis\")\n",
    "\n",
    "for block in my_blockchain.chain:\n",
    "    print(f\"Block {block.index}: {block.data}\")\n",
    "    print(f\"Hash: {block.hash}\\n\")\n",
    "\n",
    "# Check blockchain validity\n",
    "print(\"Blockchain valid?\", my_blockchain.is_valid())\n"
   ]
  }
 ],
 "metadata": {
  "kernelspec": {
   "display_name": "env",
   "language": "python",
   "name": "python3"
  },
  "language_info": {
   "codemirror_mode": {
    "name": "ipython",
    "version": 3
   },
   "file_extension": ".py",
   "mimetype": "text/x-python",
   "name": "python",
   "nbconvert_exporter": "python",
   "pygments_lexer": "ipython3",
   "version": "3.11.6"
  }
 },
 "nbformat": 4,
 "nbformat_minor": 2
}
